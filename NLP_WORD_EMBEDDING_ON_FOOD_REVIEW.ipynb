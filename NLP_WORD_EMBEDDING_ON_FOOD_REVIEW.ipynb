{
  "nbformat": 4,
  "nbformat_minor": 0,
  "metadata": {
    "colab": {
      "provenance": []
    },
    "kernelspec": {
      "name": "python3",
      "display_name": "Python 3"
    },
    "language_info": {
      "name": "python"
    }
  },
  "cells": [
    {
      "cell_type": "code",
      "execution_count": null,
      "metadata": {
        "id": "lExvQm9PBGwB"
      },
      "outputs": [],
      "source": [
        "import numpy as np\n",
        "from tensorflow.keras.preprocessing.text import one_hot\n",
        "from tensorflow.keras.preprocessing.sequence import pad_sequences\n",
        "from tensorflow.keras.models import Sequential\n",
        "from tensorflow.keras.layers import Dense\n",
        "from tensorflow.keras.layers import Flatten\n",
        "from tensorflow.keras.layers import Embedding"
      ]
    },
    {
      "cell_type": "code",
      "source": [
        "reviews = ['nice food',\n",
        "        'amazing restaurant',\n",
        "        'too good',\n",
        "        'just loved it!',\n",
        "        'will go again',\n",
        "        'horrible food',\n",
        "        'never go there',\n",
        "        'poor service',\n",
        "        'poor quality',\n",
        "        'needs improvement']\n",
        "\n",
        "sentiment = np.array([1,1,1,1,1,0,0,0,0,0])"
      ],
      "metadata": {
        "id": "DutTJjRvBPqt"
      },
      "execution_count": null,
      "outputs": []
    },
    {
      "cell_type": "code",
      "source": [
        "one_hot(\"amazing restaurant\",30)"
      ],
      "metadata": {
        "colab": {
          "base_uri": "https://localhost:8080/"
        },
        "id": "lpMmP9PIBYck",
        "outputId": "fea6c6ed-0d67-48aa-c494-f630988e0468"
      },
      "execution_count": null,
      "outputs": [
        {
          "output_type": "execute_result",
          "data": {
            "text/plain": [
              "[17, 3]"
            ]
          },
          "metadata": {},
          "execution_count": 8
        }
      ]
    },
    {
      "cell_type": "code",
      "source": [
        "vocab_size=30\n",
        "encoded_reviews = [one_hot(d, vocab_size) for d in reviews]\n",
        "encoded_reviews"
      ],
      "metadata": {
        "colab": {
          "base_uri": "https://localhost:8080/"
        },
        "id": "80-aqR13BcOS",
        "outputId": "9caa737d-2c20-47b0-b778-512110c5bbb7"
      },
      "execution_count": null,
      "outputs": [
        {
          "output_type": "execute_result",
          "data": {
            "text/plain": [
              "[[18, 29],\n",
              " [17, 3],\n",
              " [20, 12],\n",
              " [13, 13, 26],\n",
              " [6, 2, 15],\n",
              " [12, 29],\n",
              " [18, 2, 9],\n",
              " [2, 25],\n",
              " [2, 19],\n",
              " [5, 13]]"
            ]
          },
          "metadata": {},
          "execution_count": 9
        }
      ]
    },
    {
      "cell_type": "code",
      "source": [
        "max_length=3\n",
        "padded_reviews = pad_sequences(encoded_reviews, maxlen=max_length, padding='post')\n",
        "padded_reviews"
      ],
      "metadata": {
        "colab": {
          "base_uri": "https://localhost:8080/"
        },
        "id": "LLIDiObHBjcy",
        "outputId": "6d35eb52-2ffd-4547-ecf0-43b19e40aa90"
      },
      "execution_count": null,
      "outputs": [
        {
          "output_type": "execute_result",
          "data": {
            "text/plain": [
              "array([[18, 29,  0],\n",
              "       [17,  3,  0],\n",
              "       [20, 12,  0],\n",
              "       [13, 13, 26],\n",
              "       [ 6,  2, 15],\n",
              "       [12, 29,  0],\n",
              "       [18,  2,  9],\n",
              "       [ 2, 25,  0],\n",
              "       [ 2, 19,  0],\n",
              "       [ 5, 13,  0]], dtype=int32)"
            ]
          },
          "metadata": {},
          "execution_count": 11
        }
      ]
    },
    {
      "cell_type": "code",
      "source": [
        "embeded_vector_size = 5\n",
        "\n",
        "model = Sequential()\n",
        "model.add(Embedding(vocab_size, embeded_vector_size, input_length=max_length,name=\"embedding\"))\n",
        "model.add(Flatten())\n",
        "model.add(Dense(1, activation='sigmoid'))"
      ],
      "metadata": {
        "id": "pLWS_yMlB9Ey"
      },
      "execution_count": null,
      "outputs": []
    },
    {
      "cell_type": "code",
      "source": [
        "X = padded_reviews\n",
        "y = sentiment"
      ],
      "metadata": {
        "id": "9MUsv0s8CFfK"
      },
      "execution_count": null,
      "outputs": []
    },
    {
      "cell_type": "code",
      "source": [
        "X = padded_reviews\n",
        "y = sentiment"
      ],
      "metadata": {
        "id": "1JjUv7sKCjwy"
      },
      "execution_count": null,
      "outputs": []
    },
    {
      "cell_type": "code",
      "source": [
        "model.compile(optimizer='adam', loss='binary_crossentropy', metrics=['accuracy'])\n"
      ],
      "metadata": {
        "id": "zgdV94qqD_A5"
      },
      "execution_count": null,
      "outputs": []
    },
    {
      "cell_type": "code",
      "source": [
        "model.fit(X, y, epochs=50, verbose=0)"
      ],
      "metadata": {
        "colab": {
          "base_uri": "https://localhost:8080/"
        },
        "id": "mMJOcXOZEDOg",
        "outputId": "b89a4ba0-3891-4f88-e4ca-aa615689d45a"
      },
      "execution_count": null,
      "outputs": [
        {
          "output_type": "execute_result",
          "data": {
            "text/plain": [
              "<keras.src.callbacks.History at 0x7acb4ac64340>"
            ]
          },
          "metadata": {},
          "execution_count": 17
        }
      ]
    },
    {
      "cell_type": "code",
      "source": [
        "loss, accuracy = model.evaluate(X, y)\n",
        "accuracy"
      ],
      "metadata": {
        "colab": {
          "base_uri": "https://localhost:8080/"
        },
        "id": "wAPT-FVhEGKB",
        "outputId": "2406492a-13d6-4a22-99bd-ce7cbb32064b"
      },
      "execution_count": null,
      "outputs": [
        {
          "output_type": "stream",
          "name": "stdout",
          "text": [
            "1/1 [==============================] - 0s 156ms/step - loss: 0.5366 - accuracy: 1.0000\n"
          ]
        },
        {
          "output_type": "execute_result",
          "data": {
            "text/plain": [
              "1.0"
            ]
          },
          "metadata": {},
          "execution_count": 18
        }
      ]
    },
    {
      "cell_type": "code",
      "source": [
        "weights = model.get_layer('embedding').get_weights()[0]\n",
        "weights"
      ],
      "metadata": {
        "colab": {
          "base_uri": "https://localhost:8080/"
        },
        "id": "7HM6sKAjEOn3",
        "outputId": "700645b8-70cf-4b21-9b05-b9eb6d23b58d"
      },
      "execution_count": null,
      "outputs": [
        {
          "output_type": "execute_result",
          "data": {
            "text/plain": [
              "array([[ 1.25839770e-01,  9.27481055e-02, -9.42110568e-02,\n",
              "        -1.35777444e-01,  1.01956919e-01],\n",
              "       [-2.76246425e-02, -4.82040308e-02,  4.59013470e-02,\n",
              "        -2.63031479e-02,  1.33023299e-02],\n",
              "       [-6.64718002e-02,  1.36784792e-01, -1.31970927e-01,\n",
              "         1.08452007e-01,  9.41648930e-02],\n",
              "       [ 8.89926329e-02, -9.62874740e-02,  5.71399294e-02,\n",
              "        -7.12132230e-02, -1.06212474e-01],\n",
              "       [ 3.76310088e-02, -4.74582426e-02,  3.01545300e-02,\n",
              "        -1.55541785e-02, -3.08994055e-02],\n",
              "       [-1.41427219e-01,  1.32159933e-01, -7.47097433e-02,\n",
              "         1.42404824e-01,  7.15756714e-02],\n",
              "       [ 8.20207670e-02, -1.11426987e-01,  1.33510217e-01,\n",
              "        -9.27414596e-02, -5.25557101e-02],\n",
              "       [-4.09078225e-02,  1.26127638e-02,  3.75830643e-02,\n",
              "         1.22450292e-04, -1.80392265e-02],\n",
              "       [ 3.36438678e-02,  4.42955606e-02,  3.45335342e-02,\n",
              "         1.87588446e-02,  3.55255492e-02],\n",
              "       [ 8.72632265e-02,  5.84528334e-02, -1.43398628e-01,\n",
              "        -9.10082534e-02,  1.20331682e-01],\n",
              "       [-2.43101958e-02,  4.59529795e-02, -5.62027842e-03,\n",
              "        -3.63813266e-02, -2.44673733e-02],\n",
              "       [ 4.86451387e-03, -3.55570316e-02, -3.07110790e-02,\n",
              "        -1.22945905e-02,  4.71179225e-02],\n",
              "       [-1.28166601e-01,  1.02509916e-01, -4.87271249e-02,\n",
              "        -1.42857581e-01,  1.47768855e-01],\n",
              "       [ 1.18706726e-01, -8.37730467e-02,  6.28172979e-02,\n",
              "        -8.04491118e-02, -1.32445872e-01],\n",
              "       [ 1.30256265e-03, -2.64160335e-05, -3.61803882e-02,\n",
              "        -2.94490587e-02, -1.27006657e-02],\n",
              "       [-8.86755064e-02, -1.28695354e-01,  1.41078368e-01,\n",
              "         1.05712324e-01, -8.88119936e-02],\n",
              "       [ 2.60430090e-02, -4.30219769e-02, -1.94323193e-02,\n",
              "        -1.22758523e-02, -4.13736701e-02],\n",
              "       [ 8.44249353e-02, -9.45051908e-02,  1.29284352e-01,\n",
              "        -9.85773876e-02, -6.66744411e-02],\n",
              "       [ 4.45804857e-02, -6.01782314e-02,  5.48477173e-02,\n",
              "        -8.80463868e-02, -4.14606594e-02],\n",
              "       [-1.08434580e-01,  1.14119001e-01, -1.31867811e-01,\n",
              "         7.32948557e-02,  1.10418037e-01],\n",
              "       [ 5.37490137e-02, -5.86190522e-02,  1.21992379e-01,\n",
              "        -1.35943413e-01, -9.85049084e-02],\n",
              "       [ 1.13003030e-02, -3.92153040e-02,  2.83230431e-02,\n",
              "         3.22373547e-02,  4.01656516e-02],\n",
              "       [-5.06220013e-03,  1.29576437e-02,  2.82776393e-02,\n",
              "         1.97916292e-02,  3.89308445e-02],\n",
              "       [ 2.30991580e-02,  1.69304945e-02,  1.57937668e-02,\n",
              "        -1.93552133e-02,  3.45232971e-02],\n",
              "       [-4.60975878e-02, -1.82061307e-02, -9.60317999e-03,\n",
              "        -1.38133876e-02,  2.70813368e-02],\n",
              "       [-1.42595604e-01,  1.41695321e-01, -1.04032010e-01,\n",
              "         1.29147187e-01,  1.59861043e-01],\n",
              "       [-4.91239168e-02, -1.01913489e-01,  1.11202724e-01,\n",
              "         6.90083727e-02, -8.81981403e-02],\n",
              "       [ 4.72029783e-02, -4.68538776e-02,  2.64033414e-02,\n",
              "         3.98289002e-02,  1.50305890e-02],\n",
              "       [-3.78757007e-02,  4.05931510e-02,  6.14432245e-03,\n",
              "        -3.49298008e-02,  4.57022898e-02],\n",
              "       [ 8.63671452e-02, -4.45298404e-02,  7.10913539e-02,\n",
              "        -9.58546549e-02, -6.29087687e-02]], dtype=float32)"
            ]
          },
          "metadata": {},
          "execution_count": 21
        }
      ]
    },
    {
      "cell_type": "code",
      "source": [
        "weights[18]"
      ],
      "metadata": {
        "colab": {
          "base_uri": "https://localhost:8080/"
        },
        "id": "H5ihFm1IEvsY",
        "outputId": "a4f5af71-4d4e-4a50-cfd2-b879e2e7c232"
      },
      "execution_count": null,
      "outputs": [
        {
          "output_type": "execute_result",
          "data": {
            "text/plain": [
              "array([ 0.04458049, -0.06017823,  0.05484772, -0.08804639, -0.04146066],\n",
              "      dtype=float32)"
            ]
          },
          "metadata": {},
          "execution_count": 23
        }
      ]
    },
    {
      "cell_type": "code",
      "source": [
        "weights[17]"
      ],
      "metadata": {
        "colab": {
          "base_uri": "https://localhost:8080/"
        },
        "id": "iMlfX1U7FKWg",
        "outputId": "dbcdbdab-23ef-49ac-f732-65ebbeea776b"
      },
      "execution_count": null,
      "outputs": [
        {
          "output_type": "execute_result",
          "data": {
            "text/plain": [
              "array([ 0.08442494, -0.09450519,  0.12928435, -0.09857739, -0.06667444],\n",
              "      dtype=float32)"
            ]
          },
          "metadata": {},
          "execution_count": 24
        }
      ]
    },
    {
      "cell_type": "code",
      "source": [],
      "metadata": {
        "id": "I2XopTs8FP1v"
      },
      "execution_count": null,
      "outputs": []
    }
  ]
}